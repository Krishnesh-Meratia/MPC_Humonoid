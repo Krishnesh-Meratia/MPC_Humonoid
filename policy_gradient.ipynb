{
 "cells": [
  {
   "cell_type": "code",
   "execution_count": 2,
   "metadata": {},
   "outputs": [],
   "source": [
    "import numpy as np"
   ]
  },
  {
   "cell_type": "code",
   "execution_count": 5,
   "metadata": {},
   "outputs": [],
   "source": [
    "# finding the next state for the controls action possible\n",
    "def control(state):\n",
    "    x1 = state[0]\n",
    "    y1 = state[1]\n",
    "    controls = []\n",
    "    dirc = [[0,0],[-1,0],[1,0],[0,-1],[0,1]]\n",
    "    if(x1 ==1 and y1 == 1):\n",
    "        controls = [1,1]\n",
    "    elif(x1 == 2 and y1 == 2):\n",
    "        controls = [2,2]\n",
    "    else:\n",
    "        for i in range(len(dirc)):\n",
    "            z = np.array(dirc[i]) + np.array(state)\n",
    "            x = z[0]\n",
    "            y = z[1]\n",
    "            c1  = z == np.array([1,1])\n",
    "            c2 = z == np.array([2,2])\n",
    "            e1 = c1.all()\n",
    "            e2 = c2.all()\n",
    "            if x>=0 and x<=3 :\n",
    "                if y>=0 and y<=4:\n",
    "                    if e1 == 0:\n",
    "                        if e2 == 0:\n",
    "                            controls.append(z)\n",
    "    return(controls)"
   ]
  },
  {
   "cell_type": "code",
   "execution_count": 6,
   "metadata": {},
   "outputs": [],
   "source": [
    "#takes the input as the next state and cost matrix and returns the value as list of as cost of next state\n",
    "def next_v(mat,cnt):\n",
    "    cont_val = []\n",
    "    for i in range(len(cnt)):\n",
    "        index = np.array(cnt[i])\n",
    "        [x,y]= index\n",
    "        val  = mat[x,y]\n",
    "        cont_val.append(val)\n",
    "    return(cont_val)"
   ]
  },
  {
   "cell_type": "code",
   "execution_count": null,
   "metadata": {},
   "outputs": [],
   "source": [
    "## directions\n",
    "def directionsfn(cost_matrix):\n",
    "    dirc = [[0,0],[-1,0],[1,0],[0,-1],[0,1]]\n",
    "    dirc_string = ['stay','up','down','left','right']\n",
    "    a = np.chararray(cost_matrix.shape,itemsize=8)\n",
    "    for i in range(cost_matrix.shape[0]):\n",
    "        for j in range(cost_matrix.shape[1]) :\n",
    "            dirc_c = []\n",
    "            cost_w =[]\n",
    "            if(i ==1 and j ==1) or (i == 2 and j == 2):\n",
    "                a[i,j]='obs'\n",
    "            else:\n",
    "                for K in range(len(dirc)):\n",
    "                    z = np.array(dirc[K])+np.array([i,j])\n",
    "                    x = z[0]\n",
    "                    y = z[1]\n",
    "                    c1  = z == np.array([1,1])\n",
    "                    c2 = z == np.array([2,2])\n",
    "                    e1 = c1.all()\n",
    "                    e2 = c2.all()\n",
    "                    if x>=0 and x<=3 :\n",
    "                        if y>=0 and y<=4:\n",
    "                            if e1 == 0:\n",
    "                                if e2 == 0:\n",
    "                                    dirc_c.append(K)\n",
    "                                    [dd,ff]= z\n",
    "                                    cost_w.append(cost_matrix[dd,ff])\n",
    "\n",
    "                ind  = cost_w.index(min(cost_w))\n",
    "                a[i,j] = dirc_string[dirc_c[ind]]\n",
    "    return(a)"
   ]
  },
  {
   "cell_type": "code",
   "execution_count": 7,
   "metadata": {},
   "outputs": [],
   "source": [
    "# value iteration returns cost matrix and number of iterations\n",
    "def value_iteration(ini,value_function,alpha):\n",
    "    siz = ini.shape\n",
    "    n = 0\n",
    "    check = True\n",
    "    while(check):\n",
    "        Jnew = np.zeros(siz)\n",
    "        n = n+1\n",
    "        for i in range(siz[0]):\n",
    "            for j in range(siz[1]):\n",
    "                if (i ==1 and j == 1) or (i == 2 and j == 2):\n",
    "                    continue            \n",
    "                else:\n",
    "                    l_jn_p1 = []\n",
    "                    cont_cost = ini[i,j]\n",
    "                    nex = control(np.array([i,j]))\n",
    "                    value = next_v(value_function,nex)\n",
    "                    for h in range(len(value)):\n",
    "                        jn_plus1 = cont_cost + alpha * value[h]  \n",
    "                        l_jn_p1.append(jn_plus1)\n",
    "                    vall = min(l_jn_p1)\n",
    "                    Jnew[i,j] = vall\n",
    "\n",
    "        if (np.absolute(value_function - Jnew)< 1e-6).all():\n",
    "            check = False\n",
    "        else:\n",
    "            value_function = Jnew\n",
    "    return(Jnew, n)"
   ]
  },
  {
   "cell_type": "code",
   "execution_count": 60,
   "metadata": {},
   "outputs": [
    {
     "name": "stdout",
     "output_type": "stream",
     "text": [
      "The cost matrix is\n",
      "[[-95.07940237 -96.03980137 -97.00990137 -98.99990137 -99.99990137]\n",
      " [-94.12860736   0.         -96.02980137 -98.00990137 -88.99990137]\n",
      " [-93.1873203  -82.25544611   0.         -97.00990137 -98.99990137]\n",
      " [-91.25544611 -90.34289066 -89.43946077 -88.99990137 -99.99990137]]\n",
      "No of iterations are\n",
      "1376\n",
      "The directions are\n",
      "[[b'right' b'right' b'right' b'right' b'stay']\n",
      " [b'up' b'obs' b'right' b'up' b'up']\n",
      " [b'up' b'left' b'obs' b'right' b'down']\n",
      " [b'up' b'left' b'left' b'right' b'stay']]\n"
     ]
    }
   ],
   "source": [
    "ini = np.array([[0,0,1,0,-1],[0,0,1,0,10],[0,10,0,1,0],[1,0,0,10,-1]])\n",
    "# initial value function\n",
    "value_fn_ini = np.zeros(ini.shape)\n",
    "alpha = 0.99\n",
    "(cost_matrix,no_of_iterations) = value_iteration(ini,value_fn_ini,alpha)\n",
    "# Printing cost matrix\n",
    "print(\"The cost matrix is\")\n",
    "print(cost_matrix)\n",
    "#Printing the no of iterations\n",
    "print(\"No of iterations are\")\n",
    "print(no_of_iterations)\n",
    "#directions\n",
    "DIRC = directionsfn(cost_matrix)\n",
    "print(\"The directions are\")\n",
    "print(DIRC)"
   ]
  },
  {
   "cell_type": "code",
   "execution_count": 13,
   "metadata": {},
   "outputs": [],
   "source": [
    "# Policy iteration returns no of iterations and cost matrix\n",
    "def Policyiteration(A,G,ini,alpha):\n",
    "    check = True\n",
    "    siz = ini.shape\n",
    "    y = 0\n",
    "    while(check):\n",
    "        y = y + 1\n",
    "        A_new = np.zeros(A.shape)\n",
    "        M = np.zeros(ini.shape)\n",
    "        Jnew = np.linalg.solve(np.eye(A.shape[0])-alpha*A, G)\n",
    "        [M[0,0],M[0,1],M[0,2],M[0,3],M[0,4],M[1,0]\n",
    "        ,M[1,2],M[1,3],M[1,4],M[2,0],M[2,1],M[2,3],M[2,4],M[3,0],M[3,1],\n",
    "        M[3,2],M[3,3],M[3,4]] = Jnew\n",
    "        List = [[0,0],[0,1],[0,2],[0,3],[0,4],[1,0],[1,2],[1,3],[1,4],[2,0],\n",
    "               [2,1],[2,3],[2,4],[3,0],[3,1],[3,2],[3,3],[3,4]]\n",
    "        n = 0\n",
    "        for i in range(siz[0]):\n",
    "            for j in range(siz[1]):\n",
    "                if (i ==1 and j == 1) or (i == 2 and j == 2):\n",
    "                    continue            \n",
    "                else:\n",
    "                    l_jn_p1 = []\n",
    "                    cont_cost = ini[i,j]\n",
    "                    nex = control(np.array([i,j]))\n",
    "                    value = next_v(M,nex)\n",
    "                    for h in range(len(value)):\n",
    "                        jn_plus1 = cont_cost + alpha * value[h]  \n",
    "                        l_jn_p1.append(jn_plus1)\n",
    "                    for_A_index = l_jn_p1.index(min(l_jn_p1))\n",
    "                    A_index_cal = nex[for_A_index]\n",
    "                    for jj in range(len(List)):\n",
    "                        vl = np.array(List[jj])\n",
    "                        c1 = vl == A_index_cal\n",
    "                        e1 = c1.all()\n",
    "                        if (e1 == 1):\n",
    "                            A_new[n,jj]= 1\n",
    "                n = n+1\n",
    "        c2 = A == A_new\n",
    "        e2 = c2.all()\n",
    "        if (e2 == False):\n",
    "            A = A_new\n",
    "        else:\n",
    "            check = False\n",
    "    return(M,y)"
   ]
  },
  {
   "cell_type": "code",
   "execution_count": 64,
   "metadata": {},
   "outputs": [
    {
     "name": "stdout",
     "output_type": "stream",
     "text": [
      "The cost matrix is\n",
      "[[ -95.079501    -96.0399      -97.01        -99.         -100.        ]\n",
      " [ -94.12870599    0.          -96.0299      -98.01        -89.        ]\n",
      " [ -93.18741893  -82.25554474    0.          -97.01        -99.        ]\n",
      " [ -91.25554474  -90.34298929  -89.4395594   -89.         -100.        ]]\n",
      "No of iterations are\n",
      "10\n",
      "The directions are\n",
      "[[b'right' b'right' b'right' b'right' b'stay']\n",
      " [b'up' b'obs' b'right' b'up' b'up']\n",
      " [b'up' b'left' b'obs' b'right' b'down']\n",
      " [b'up' b'left' b'left' b'right' b'stay']]\n"
     ]
    }
   ],
   "source": [
    "#initial \n",
    "A = np.eye(18)\n",
    "#continuous cost\n",
    "G = np.array([[0,0,1,0,-1,0,1,0,10,0,10,1,0,1,0,0,10,-1]]).T\n",
    "ini = np.array([[0,0,1,0,-1],[0,-10**5,1,0,10],[0,10,-10**5,1,0],[1,0,0,10,-1]])\n",
    "alpha = 0.99\n",
    "(cost_matrix_Pi,no_of_iteration_Pi) = Policyiteration(A,G,ini,alpha)\n",
    "# Printing cost matrix\n",
    "print(\"The cost matrix is\")\n",
    "print(cost_matrix_Pi)\n",
    "#Printing the no of iterations\n",
    "print(\"No of iterations are\")\n",
    "print(no_of_iteration_Pi)\n",
    "DIRC_Pi = directionsfn(cost_matrix_Pi)\n",
    "print(\"The directions are\")\n",
    "print(DIRC_Pi)"
   ]
  },
  {
   "cell_type": "code",
   "execution_count": 29,
   "metadata": {},
   "outputs": [],
   "source": []
  },
  {
   "cell_type": "code",
   "execution_count": 31,
   "metadata": {},
   "outputs": [
    {
     "data": {
      "text/plain": [
       "5"
      ]
     },
     "execution_count": 31,
     "metadata": {},
     "output_type": "execute_result"
    }
   ],
   "source": []
  },
  {
   "cell_type": "code",
   "execution_count": null,
   "metadata": {},
   "outputs": [],
   "source": []
  }
 ],
 "metadata": {
  "kernelspec": {
   "display_name": "Python 3",
   "language": "python",
   "name": "python3"
  },
  "language_info": {
   "codemirror_mode": {
    "name": "ipython",
    "version": 3
   },
   "file_extension": ".py",
   "mimetype": "text/x-python",
   "name": "python",
   "nbconvert_exporter": "python",
   "pygments_lexer": "ipython3",
   "version": "3.7.6"
  }
 },
 "nbformat": 4,
 "nbformat_minor": 4
}
